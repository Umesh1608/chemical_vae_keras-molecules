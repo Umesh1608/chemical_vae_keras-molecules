{
 "cells": [
  {
   "cell_type": "code",
   "execution_count": 3,
   "metadata": {},
   "outputs": [
    {
     "ename": "ValueError",
     "evalue": "Dataset(s) incompatible with Pandas data types, not table, or no datasets found in HDF5 file.",
     "output_type": "error",
     "traceback": [
      "\u001b[1;31m---------------------------------------------------------------------------\u001b[0m",
      "\u001b[1;31mValueError\u001b[0m                                Traceback (most recent call last)",
      "Cell \u001b[1;32mIn[3], line 3\u001b[0m\n\u001b[0;32m      1\u001b[0m \u001b[38;5;28;01mimport\u001b[39;00m \u001b[38;5;21;01mpandas\u001b[39;00m \u001b[38;5;28;01mas\u001b[39;00m \u001b[38;5;21;01mpd\u001b[39;00m\n\u001b[1;32m----> 3\u001b[0m data \u001b[38;5;241m=\u001b[39m \u001b[43mpd\u001b[49m\u001b[38;5;241;43m.\u001b[39;49m\u001b[43mread_hdf\u001b[49m\u001b[43m(\u001b[49m\u001b[38;5;124;43m\"\u001b[39;49m\u001b[38;5;124;43mD:/UV_Project/Code_New/chemical_vae_keras-molecules/data/processed.h5\u001b[39;49m\u001b[38;5;124;43m\"\u001b[39;49m\u001b[43m)\u001b[49m\n",
      "File \u001b[1;32mc:\\Users\\umesh\\anaconda3\\envs\\kerasmol\\lib\\site-packages\\pandas\\io\\pytables.py:429\u001b[0m, in \u001b[0;36mread_hdf\u001b[1;34m(path_or_buf, key, mode, errors, where, start, stop, columns, iterator, chunksize, **kwargs)\u001b[0m\n\u001b[0;32m    427\u001b[0m groups \u001b[38;5;241m=\u001b[39m store\u001b[38;5;241m.\u001b[39mgroups()\n\u001b[0;32m    428\u001b[0m \u001b[38;5;28;01mif\u001b[39;00m \u001b[38;5;28mlen\u001b[39m(groups) \u001b[38;5;241m==\u001b[39m \u001b[38;5;241m0\u001b[39m:\n\u001b[1;32m--> 429\u001b[0m     \u001b[38;5;28;01mraise\u001b[39;00m \u001b[38;5;167;01mValueError\u001b[39;00m(\n\u001b[0;32m    430\u001b[0m         \u001b[38;5;124m\"\u001b[39m\u001b[38;5;124mDataset(s) incompatible with Pandas data types, \u001b[39m\u001b[38;5;124m\"\u001b[39m\n\u001b[0;32m    431\u001b[0m         \u001b[38;5;124m\"\u001b[39m\u001b[38;5;124mnot table, or no datasets found in HDF5 file.\u001b[39m\u001b[38;5;124m\"\u001b[39m\n\u001b[0;32m    432\u001b[0m     )\n\u001b[0;32m    433\u001b[0m candidate_only_group \u001b[38;5;241m=\u001b[39m groups[\u001b[38;5;241m0\u001b[39m]\n\u001b[0;32m    435\u001b[0m \u001b[38;5;66;03m# For the HDF file to have only one dataset, all other groups\u001b[39;00m\n\u001b[0;32m    436\u001b[0m \u001b[38;5;66;03m# should then be metadata groups for that candidate group. (This\u001b[39;00m\n\u001b[0;32m    437\u001b[0m \u001b[38;5;66;03m# assumes that the groups() method enumerates parent groups\u001b[39;00m\n\u001b[0;32m    438\u001b[0m \u001b[38;5;66;03m# before their children.)\u001b[39;00m\n",
      "\u001b[1;31mValueError\u001b[0m: Dataset(s) incompatible with Pandas data types, not table, or no datasets found in HDF5 file."
     ]
    }
   ],
   "source": [
    "import pandas as pd\n",
    "\n",
    "data = pd.read_hdf(\"D:/UV_Project/Code_New/chemical_vae_keras-molecules/data/processed.h5\")"
   ]
  },
  {
   "cell_type": "code",
   "execution_count": 11,
   "metadata": {},
   "outputs": [
    {
     "ename": "TypeError",
     "evalue": "data type 'a1sds3e243' not understood",
     "output_type": "error",
     "traceback": [
      "\u001b[1;31m---------------------------------------------------------------------------\u001b[0m",
      "\u001b[1;31mTypeError\u001b[0m                                 Traceback (most recent call last)",
      "Cell \u001b[1;32mIn[11], line 2\u001b[0m\n\u001b[0;32m      1\u001b[0m \u001b[38;5;28;01mimport\u001b[39;00m \u001b[38;5;21;01mnumpy\u001b[39;00m \u001b[38;5;28;01mas\u001b[39;00m \u001b[38;5;21;01mnp\u001b[39;00m\n\u001b[1;32m----> 2\u001b[0m \u001b[43mnp\u001b[49m\u001b[38;5;241;43m.\u001b[39;49m\u001b[43mdtype\u001b[49m\u001b[43m(\u001b[49m\u001b[38;5;124;43m\"\u001b[39;49m\u001b[38;5;124;43ma1sds3e243\u001b[39;49m\u001b[38;5;124;43m\"\u001b[39;49m\u001b[43m)\u001b[49m\n",
      "\u001b[1;31mTypeError\u001b[0m: data type 'a1sds3e243' not understood"
     ]
    }
   ],
   "source": [
    "import numpy as np\n",
    "np.dtype(\"a1sds3e243\")"
   ]
  },
  {
   "cell_type": "code",
   "execution_count": 6,
   "metadata": {},
   "outputs": [
    {
     "data": {
      "text/html": [
       "<div>\n",
       "<style scoped>\n",
       "    .dataframe tbody tr th:only-of-type {\n",
       "        vertical-align: middle;\n",
       "    }\n",
       "\n",
       "    .dataframe tbody tr th {\n",
       "        vertical-align: top;\n",
       "    }\n",
       "\n",
       "    .dataframe thead th {\n",
       "        text-align: right;\n",
       "    }\n",
       "</style>\n",
       "<table border=\"1\" class=\"dataframe\">\n",
       "  <thead>\n",
       "    <tr style=\"text-align: right;\">\n",
       "      <th></th>\n",
       "      <th>structure</th>\n",
       "    </tr>\n",
       "  </thead>\n",
       "  <tbody>\n",
       "    <tr>\n",
       "      <th>0</th>\n",
       "      <td>[11CH2]1NCCN2C[C@@H]3CCC[C@@H]3c4cccc1c24</td>\n",
       "    </tr>\n",
       "    <tr>\n",
       "      <th>1</th>\n",
       "      <td>[11CH2]1NCCN2[C@@H]3CCC[C@@H]3c4cccc1c24</td>\n",
       "    </tr>\n",
       "    <tr>\n",
       "      <th>2</th>\n",
       "      <td>[11CH3]c1ccc(cc1)c2cc(nn2c3ccc(cc3)S(=O)(=O)N)...</td>\n",
       "    </tr>\n",
       "    <tr>\n",
       "      <th>3</th>\n",
       "      <td>[11CH3]c1ccccc1O[C@H]([C@@H]2CNCCO2)c3ccccc3</td>\n",
       "    </tr>\n",
       "    <tr>\n",
       "      <th>4</th>\n",
       "      <td>[11CH3]c1ccccc1S[C@H]([C@@H]2CNCCO2)c3ccccc3</td>\n",
       "    </tr>\n",
       "    <tr>\n",
       "      <th>...</th>\n",
       "      <td>...</td>\n",
       "    </tr>\n",
       "    <tr>\n",
       "      <th>49995</th>\n",
       "      <td>Cc1cc(C)c2CCC[C@@H](O)c2c1</td>\n",
       "    </tr>\n",
       "    <tr>\n",
       "      <th>49996</th>\n",
       "      <td>Cc1cc(C)c2CCC[C@H](O)c2c1</td>\n",
       "    </tr>\n",
       "    <tr>\n",
       "      <th>49997</th>\n",
       "      <td>CC1CCCc2c(\\C=C\\[C@@H](O)C[C@@H](O)CC(=O)O)n(nc...</td>\n",
       "    </tr>\n",
       "    <tr>\n",
       "      <th>49998</th>\n",
       "      <td>Cc1cccc2CC(=C(Cl)c12)C=O</td>\n",
       "    </tr>\n",
       "    <tr>\n",
       "      <th>49999</th>\n",
       "      <td>Cc1cc(cc2ccc(Cl)cc12)C(=O)c3c(C)c(C)sc3N</td>\n",
       "    </tr>\n",
       "  </tbody>\n",
       "</table>\n",
       "<p>50000 rows × 1 columns</p>\n",
       "</div>"
      ],
      "text/plain": [
       "                                               structure\n",
       "0              [11CH2]1NCCN2C[C@@H]3CCC[C@@H]3c4cccc1c24\n",
       "1               [11CH2]1NCCN2[C@@H]3CCC[C@@H]3c4cccc1c24\n",
       "2      [11CH3]c1ccc(cc1)c2cc(nn2c3ccc(cc3)S(=O)(=O)N)...\n",
       "3           [11CH3]c1ccccc1O[C@H]([C@@H]2CNCCO2)c3ccccc3\n",
       "4           [11CH3]c1ccccc1S[C@H]([C@@H]2CNCCO2)c3ccccc3\n",
       "...                                                  ...\n",
       "49995                         Cc1cc(C)c2CCC[C@@H](O)c2c1\n",
       "49996                          Cc1cc(C)c2CCC[C@H](O)c2c1\n",
       "49997  CC1CCCc2c(\\C=C\\[C@@H](O)C[C@@H](O)CC(=O)O)n(nc...\n",
       "49998                           Cc1cccc2CC(=C(Cl)c12)C=O\n",
       "49999           Cc1cc(cc2ccc(Cl)cc12)C(=O)c3c(C)c(C)sc3N\n",
       "\n",
       "[50000 rows x 1 columns]"
      ]
     },
     "execution_count": 6,
     "metadata": {},
     "output_type": "execute_result"
    }
   ],
   "source": [
    "data"
   ]
  },
  {
   "cell_type": "code",
   "execution_count": 3,
   "metadata": {},
   "outputs": [
    {
     "name": "stdout",
     "output_type": "stream",
     "text": [
      "root:NXroot\n",
      "  @CLASS = 'GROUP'\n",
      "  @PYTABLES_FORMAT_VERSION = '2.1'\n",
      "  @TITLE = ''\n",
      "  @VERSION = '1.0'\n",
      "  table:NXgroup\n",
      "    @CLASS = 'GROUP'\n",
      "    @TITLE = ''\n",
      "    @VERSION = '1.0'\n",
      "    @axis0_variety = 'regular'\n",
      "    @axis1_variety = 'regular'\n",
      "    @block0_items_variety = 'regular'\n",
      "    @encoding = 'N.'\n",
      "    @nblocks = 1\n",
      "    @ndim = 2\n",
      "    @pandas_type = 'frame'\n",
      "    @pandas_version = '0.15.2'\n",
      "    axis0 = 'structure'\n",
      "      @CLASS = 'ARRAY'\n",
      "      @FLAVOR = 'numpy'\n",
      "      @TITLE = 'Empty(dtype=dtype('S1'))'\n",
      "      @VERSION = '2.4'\n",
      "      @kind = 'string'\n",
      "      @name = 'N.'\n",
      "      @transposed = 1\n",
      "    axis1 = int64(50000)\n",
      "      @CLASS = 'ARRAY'\n",
      "      @FLAVOR = 'numpy'\n",
      "      @TITLE = 'Empty(dtype=dtype('S1'))'\n",
      "      @VERSION = '2.4'\n",
      "      @kind = 'integer'\n",
      "      @name = 'N.'\n",
      "      @transposed = 1\n",
      "    block0_items = 'structure'\n",
      "      @CLASS = 'ARRAY'\n",
      "      @FLAVOR = 'numpy'\n",
      "      @TITLE = 'Empty(dtype=dtype('S1'))'\n",
      "      @VERSION = '2.4'\n",
      "      @kind = 'string'\n",
      "      @name = 'N.'\n",
      "      @transposed = 1\n",
      "    block0_values = '[128   2  99 ... 116  98  46]'\n",
      "      @CLASS = 'VLARRAY'\n",
      "      @PSEUDOATOM = 'object'\n",
      "      @TITLE = 'Empty(dtype=dtype('S1'))'\n",
      "      @VERSION = '1.4'\n",
      "      @transposed = 1\n"
     ]
    }
   ],
   "source": [
    "import nexusformat.nexus as nx\n",
    "f = nx.nxload(\"D:/UV_Project/Code_New/chemical_vae_keras-molecules/data/smiles_50k.h5\")\n",
    "print(f.tree)"
   ]
  }
 ],
 "metadata": {
  "kernelspec": {
   "display_name": "kerasmol",
   "language": "python",
   "name": "python3"
  },
  "language_info": {
   "codemirror_mode": {
    "name": "ipython",
    "version": 3
   },
   "file_extension": ".py",
   "mimetype": "text/x-python",
   "name": "python",
   "nbconvert_exporter": "python",
   "pygments_lexer": "ipython3",
   "version": "3.9.16"
  }
 },
 "nbformat": 4,
 "nbformat_minor": 2
}
